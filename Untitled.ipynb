{
 "cells": [
  {
   "cell_type": "markdown",
   "id": "da46ee79",
   "metadata": {},
   "source": [
    "Given two strings s1 and s2, return *the lowest **ASCII** sum of deleted characters to make two strings equal*.\n",
    "\n",
    "**Example 1:**\n",
    "\n",
    "**Input:** s1 = \"sea\", s2 = \"eat\"\n",
    "\n",
    "**Output:** 231\n",
    "\n",
    "**Explanation:** Deleting \"s\" from \"sea\" adds the ASCII value of \"s\" (115) to the sum.\n",
    "\n",
    "Deleting \"t\" from \"eat\" adds 116 to the sum.\n",
    "\n",
    "At the end, both strings are equal, and 115 + 116 = 231 is the minimum sum possible to achieve this."
   ]
  },
  {
   "cell_type": "code",
   "execution_count": 51,
   "id": "31e7ad69",
   "metadata": {},
   "outputs": [
    {
     "name": "stdout",
     "output_type": "stream",
     "text": [
      "[[0, 101, 198, 314], [115, 0, 0, 0], [216, 0, 0, 0], [313, 0, 0, 0]]\n",
      "[[0, 101, 198, 314], [115, 216, 313, 429], [216, 0, 0, 0], [313, 0, 0, 0]]\n",
      "[[0, 101, 198, 314], [115, 216, 313, 429], [216, 115, 212, 328], [313, 0, 0, 0]]\n",
      "[[0, 101, 198, 314], [115, 216, 313, 429], [216, 115, 212, 328], [313, 212, 115, 231]]\n"
     ]
    },
    {
     "data": {
      "text/plain": [
       "231"
      ]
     },
     "execution_count": 51,
     "metadata": {},
     "output_type": "execute_result"
    }
   ],
   "source": [
    "def minimumDeleteSum(s1, s2):\n",
    "    m, n = len(s1), len(s2)\n",
    "    dp = [[0] * (n + 1) for _ in range(m + 1)]\n",
    "    #print(dp)\n",
    "    for i in range(1, m + 1):\n",
    "        dp[i][0] = dp[i - 1][0] + ord(s1[i - 1])\n",
    "    #print(dp)\n",
    "#         print(ord(s1[i-1]))\n",
    "    for j in range(1, n + 1):\n",
    "        dp[0][j] = dp[0][j - 1] + ord(s2[j - 1])\n",
    "    print(dp)\n",
    "    for i in range(1, m + 1):\n",
    "        for j in range(1, n + 1):\n",
    "            if s1[i - 1] == s2[j - 1]:\n",
    "                dp[i][j] = dp[i - 1][j - 1]\n",
    "            else:\n",
    "                dp[i][j] = min(dp[i - 1][j] + ord(s1[i - 1]), dp[i][j - 1] + ord(s2[j - 1]))\n",
    "        print(dp)\n",
    "    return dp[m][n]\n",
    "\n",
    "# Example usage:\n",
    "s1 = \"sea\"\n",
    "s2 = \"eat\"\n",
    "# result = minimumDeleteSum(s1, s2)\n",
    "#print(result)  # Output: 231\n",
    "minimumDeleteSum(s1, s2)"
   ]
  },
  {
   "cell_type": "code",
   "execution_count": 52,
   "id": "56c40597",
   "metadata": {},
   "outputs": [],
   "source": [
    "s = [[0]*4 for i in range(4)]"
   ]
  },
  {
   "cell_type": "code",
   "execution_count": 59,
   "id": "87567c2a",
   "metadata": {},
   "outputs": [
    {
     "name": "stdout",
     "output_type": "stream",
     "text": [
      "[[0, 2, 4, 6], [1, 3, 5, 7], [2, 4, 6, 8], [3, 5, 7, 9]]\n",
      "[[0, 3, 4, 6], [1, 3, 5, 7], [2, 4, 6, 8], [3, 5, 7, 9]]\n",
      "[[0, 3, 6, 6], [1, 3, 5, 7], [2, 4, 6, 8], [3, 5, 7, 9]]\n",
      "[[0, 3, 6, 9], [1, 3, 5, 7], [2, 4, 6, 8], [3, 5, 7, 9]]\n",
      "[[0, 3, 6, 9], [0, 3, 5, 7], [2, 4, 6, 8], [3, 5, 7, 9]]\n",
      "[[0, 3, 6, 9], [0, 3, 5, 7], [2, 4, 6, 8], [3, 5, 7, 9]]\n",
      "[[0, 3, 6, 9], [0, 3, 6, 7], [2, 4, 6, 8], [3, 5, 7, 9]]\n",
      "[[0, 3, 6, 9], [0, 3, 6, 9], [2, 4, 6, 8], [3, 5, 7, 9]]\n",
      "[[0, 3, 6, 9], [0, 3, 6, 9], [0, 4, 6, 8], [3, 5, 7, 9]]\n",
      "[[0, 3, 6, 9], [0, 3, 6, 9], [0, 3, 6, 8], [3, 5, 7, 9]]\n",
      "[[0, 3, 6, 9], [0, 3, 6, 9], [0, 3, 6, 8], [3, 5, 7, 9]]\n",
      "[[0, 3, 6, 9], [0, 3, 6, 9], [0, 3, 6, 9], [3, 5, 7, 9]]\n",
      "[[0, 3, 6, 9], [0, 3, 6, 9], [0, 3, 6, 9], [0, 5, 7, 9]]\n",
      "[[0, 3, 6, 9], [0, 3, 6, 9], [0, 3, 6, 9], [0, 3, 7, 9]]\n",
      "[[0, 3, 6, 9], [0, 3, 6, 9], [0, 3, 6, 9], [0, 3, 6, 9]]\n",
      "[[0, 3, 6, 9], [0, 3, 6, 9], [0, 3, 6, 9], [0, 3, 6, 9]]\n"
     ]
    }
   ],
   "source": [
    "for i in range(4):\n",
    "    for j in range(4):\n",
    "        s[i][j]=2*j+j\n",
    "        "
   ]
  },
  {
   "cell_type": "code",
   "execution_count": 55,
   "id": "40f65bf6",
   "metadata": {},
   "outputs": [
    {
     "data": {
      "text/plain": [
       "[[0, 2, 4, 6], [0, 2, 4, 6], [0, 2, 4, 6], [0, 2, 4, 6]]"
      ]
     },
     "execution_count": 55,
     "metadata": {},
     "output_type": "execute_result"
    }
   ],
   "source": [
    "s"
   ]
  },
  {
   "cell_type": "code",
   "execution_count": 7,
   "id": "860a8af1",
   "metadata": {},
   "outputs": [
    {
     "data": {
      "text/plain": [
       "115"
      ]
     },
     "execution_count": 7,
     "metadata": {},
     "output_type": "execute_result"
    }
   ],
   "source": [
    "ord('s')"
   ]
  },
  {
   "cell_type": "code",
   "execution_count": 10,
   "id": "7986e15e",
   "metadata": {},
   "outputs": [
    {
     "data": {
      "text/plain": [
       "101"
      ]
     },
     "execution_count": 10,
     "metadata": {},
     "output_type": "execute_result"
    }
   ],
   "source": [
    "ord('e')"
   ]
  },
  {
   "cell_type": "code",
   "execution_count": 11,
   "id": "d18b561d",
   "metadata": {},
   "outputs": [
    {
     "data": {
      "text/plain": [
       "97"
      ]
     },
     "execution_count": 11,
     "metadata": {},
     "output_type": "execute_result"
    }
   ],
   "source": [
    "ord('a')"
   ]
  },
  {
   "cell_type": "code",
   "execution_count": 18,
   "id": "510be972",
   "metadata": {},
   "outputs": [
    {
     "data": {
      "text/plain": [
       "'\\x00'"
      ]
     },
     "execution_count": 18,
     "metadata": {},
     "output_type": "execute_result"
    }
   ],
   "source": [
    "chr(0)"
   ]
  },
  {
   "cell_type": "code",
   "execution_count": 19,
   "id": "53b28e61",
   "metadata": {},
   "outputs": [
    {
     "data": {
      "text/plain": [
       "'a'"
      ]
     },
     "execution_count": 19,
     "metadata": {},
     "output_type": "execute_result"
    }
   ],
   "source": [
    "chr(97)"
   ]
  },
  {
   "cell_type": "code",
   "execution_count": 32,
   "id": "ee98c519",
   "metadata": {},
   "outputs": [
    {
     "name": "stdout",
     "output_type": "stream",
     "text": [
      "min_open 0\n",
      "0\n",
      "True\n"
     ]
    }
   ],
   "source": [
    "def checkValidString(s):\n",
    "    min_open = max_open = 0\n",
    "    \n",
    "    for char in s:\n",
    "        if char == '(':\n",
    "        \n",
    "            min_open += 1\n",
    "            max_open += 1\n",
    "        elif char == ')':\n",
    "            min_open = max(min_open - 1, 0)\n",
    "            max_open -= 1\n",
    "        else:\n",
    "            print('hi')\n",
    "            min_open = max(min_open - 1, 0)\n",
    "            max_open += 1\n",
    "        \n",
    "        if max_open < 0:\n",
    "            return False\n",
    "    print(\"min_open\",min_open)\n",
    "    print(max_open)\n",
    "    return min_open == 0\n",
    "\n",
    "# Example usage:\n",
    "s = \"\"\n",
    "result = checkValidString(s)\n",
    "print(result)  # Output: True\n"
   ]
  },
  {
   "cell_type": "code",
   "execution_count": 34,
   "id": "76bab6ec",
   "metadata": {},
   "outputs": [
    {
     "name": "stdout",
     "output_type": "stream",
     "text": [
      "[[0, 0, 0, 0], [0, 0, 0, 0], [0, 1, 1, 1], [0, 1, 2, 2]]\n",
      "2\n"
     ]
    }
   ],
   "source": [
    "def minDistance(word1, word2):\n",
    "    m, n = len(word1), len(word2)\n",
    "    dp = [[0] * (n + 1) for _ in range(m + 1)]\n",
    "\n",
    "    for i in range(1, m + 1):\n",
    "        for j in range(1, n + 1):\n",
    "            if word1[i - 1] == word2[j - 1]:\n",
    "                dp[i][j] = dp[i - 1][j - 1] + 1\n",
    "            else:\n",
    "                dp[i][j] = max(dp[i - 1][j], dp[i][j - 1])\n",
    "    print(dp)\n",
    "    longest_common_subsequence_length = dp[m][n]\n",
    "    deletion_steps_word1 = m - longest_common_subsequence_length\n",
    "    deletion_steps_word2 = n - longest_common_subsequence_length\n",
    "\n",
    "    return deletion_steps_word1 + deletion_steps_word2\n",
    "\n",
    "# Example usage:\n",
    "word1 = \"sea\"\n",
    "word2 = \"eat\"\n",
    "result = minDistance(word1, word2)\n",
    "print(result)  # Output: 2\n"
   ]
  },
  {
   "cell_type": "code",
   "execution_count": null,
   "id": "745f19b1",
   "metadata": {},
   "outputs": [],
   "source": []
  },
  {
   "cell_type": "code",
   "execution_count": null,
   "id": "7ed8b72d",
   "metadata": {},
   "outputs": [],
   "source": []
  }
 ],
 "metadata": {
  "kernelspec": {
   "display_name": "Python 3 (ipykernel)",
   "language": "python",
   "name": "python3"
  },
  "language_info": {
   "codemirror_mode": {
    "name": "ipython",
    "version": 3
   },
   "file_extension": ".py",
   "mimetype": "text/x-python",
   "name": "python",
   "nbconvert_exporter": "python",
   "pygments_lexer": "ipython3",
   "version": "3.11.5"
  }
 },
 "nbformat": 4,
 "nbformat_minor": 5
}
